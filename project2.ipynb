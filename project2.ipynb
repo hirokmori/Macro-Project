{
 "cells": [
  {
   "cell_type": "code",
   "execution_count": null,
   "metadata": {},
   "outputs": [],
   "source": [
    "import pandas as pd\n",
    "import matplotlib.pyplot as plt\n",
    "import numpy as np"
   ]
  },
  {
   "cell_type": "code",
   "execution_count": null,
   "metadata": {},
   "outputs": [],
   "source": [
    "#Load data\n",
    "pwt10 = pd.read_stata(\"https://dataverse.nl/api/access/datafile/354098\")"
   ]
  },
  {
   "cell_type": "code",
   "execution_count": null,
   "metadata": {},
   "outputs": [],
   "source": [
    "# Filter and select relevant columns\n",
    "countries = ['France', 'Germany', 'Canada', 'Italy', 'Japan', 'United Kingdom', 'United States']\n",
    "data = pwt10.loc[pwt10['country'].isin(countries)][['year', 'countrycode', 'rgdpna', 'rkna', 'pop', 'emp', 'avh', 'labsh', 'rtfpna']]\n",
    "data = data.loc[(data['year'] >= 1995) & (data['year'] <= 2019)].dropna()"
   ]
  },
  {
   "cell_type": "code",
   "execution_count": null,
   "metadata": {},
   "outputs": [],
   "source": [
    "data['alpha'] = 1 - data['labsh']\n",
    "data['tfp_term'] = data['rtfpna'] ** (1 / (1 - data['alpha']))\n",
    "data['cap_term'] = (data['rkna'] / data['rgdpna']) ** (data['alpha'] / (1 - data['alpha']))\n",
    "#TFP growth\n",
    "data[\"tfp\"] = data['rgdpna'] / (data['emp'] * data['avh'])\n",
    "#Capital deepning\n",
    "data['cap'] = (data['rkna'] / (data['emp'] * data['avh'])) / data['tfp']\n",
    "data['labor_productivity_growth'] = data['rgdpna'].pct_change() * 100\n",
    "data['tfp_growth'] = data['labor_productivity_growth'] - data['cap']\n",
    "data = data.sort_values('year').groupby('countrycode')\n",
    "print(data.head(10))"
   ]
  }
 ],
 "metadata": {
  "language_info": {
   "name": "python"
  },
  "orig_nbformat": 4
 },
 "nbformat": 4,
 "nbformat_minor": 2
}
